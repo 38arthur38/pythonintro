{
  "nbformat": 4,
  "nbformat_minor": 0,
  "metadata": {
    "colab": {
      "name": "introduction à Python.ipynb",
      "provenance": [],
      "collapsed_sections": []
    },
    "kernelspec": {
      "name": "python3",
      "display_name": "Python 3"
    }
  },
  "cells": [
    {
      "cell_type": "markdown",
      "metadata": {
        "id": "IX-CwMf9V4n1",
        "colab_type": "text"
      },
      "source": [
        "# <center>**PYTHON au lycée**</center>\n",
        "\n",
        "# I. Python c'est quoi???\n",
        "<p style=\"text-align:justify;\">Le langage Python fait partie des langages de programmation les plus utilisés dans le monde et selon certains, il s’agit même du langage le plus populaire dans le monde informatique. BitTorrent, Dropbox, Juice, World of Tanks, Battlefield (pour les add-on), Youtube sont des exemples de logiciels ou d’applications qui utilisent Python.</p>\n",
        "\n",
        "La petite histoire:\n",
        "<img align=\"right\" width=\"200\" height=\"170\" src=\"https://www.t3france.fr/t3-europe/-/media/ti/t3-europe/images/blog/blog-python-blog-guido.jpg?la=fr&rev=f9b116bc-7c51-4fa1-b5ce-461b9daaf94f&hash=D09113D25CA4A1100F02BB17B7C878A9A3B0FAAE/\">\n",
        "\n",
        "*   Date de naissance : *1990*\n",
        "*   Créateur : *Guido Van Rossum (Pays-Bas)*\n",
        "*   Pourquoi Python ? *À cause de la série humoristique britannique Monty Python*\n",
        "\n",
        "# II. Prise en main\n",
        "Pour cette première partie, vous exécuterez le code en ligne. Un peu plus tard, nous travaillerons avec le logiciel Thonny.\n",
        "Dans les lignes de code, vous pourrez rentrer du code, l'executer à l'aide de l'icône flèche située à gauche de celui-ci.\n",
        "\n",
        "Pour commencer, dans la fenêtre ci-dessous, taper: print(\"Hello World ! \"), et exécutez ce code (en appuyant sur entrée).\n",
        "\n",
        "\n",
        "\n",
        "\n",
        "\n",
        "\n",
        "\n",
        "\n",
        "\n",
        "\n"
      ]
    },
    {
      "cell_type": "code",
      "metadata": {
        "id": "VgXyJ-2ZbSwr",
        "colab_type": "code",
        "colab": {}
      },
      "source": [
        ""
      ],
      "execution_count": null,
      "outputs": []
    },
    {
      "cell_type": "markdown",
      "metadata": {
        "id": "9kG_NP8SbTt3",
        "colab_type": "text"
      },
      "source": [
        "Vous avez pu vous rendre compte que Python vous à retourner Hello World!\n",
        "Pour afficher du texte avec Python, nous utiliserons donc la commande print.\n",
        "\n",
        "Tester le code suivant en changeant 15, 27, 34 par l’heure actuelle.\n"
      ]
    },
    {
      "cell_type": "code",
      "metadata": {
        "id": "ri6__GpBbrsD",
        "colab_type": "code",
        "colab": {
          "base_uri": "https://localhost:8080/",
          "height": 34
        },
        "outputId": "b982b35f-5bbe-470c-a9e6-4d7ecaac16db"
      },
      "source": [
        "h, m, s = 15, 27, 34 #on assigne à h, m et s les valeurs de 15, 27 et 34 (l’heure !)\n",
        "print(\"nombre de secondes écoulées depuis minuit = \", h*3600 + m*60 + s)"
      ],
      "execution_count": null,
      "outputs": [
        {
          "output_type": "stream",
          "text": [
            "nombre de secondes écoulées depuis minuit =  55654\n"
          ],
          "name": "stdout"
        }
      ]
    },
    {
      "cell_type": "markdown",
      "metadata": {
        "id": "r6toxgJJb0-c",
        "colab_type": "text"
      },
      "source": [
        "Avec ce second code quelques remarques:\n",
        "\n",
        "\n",
        "*   Dans les parenthèses de la commande print, ce qui est entre guillemets est affiché et ce qui est sans guillemets est calculé;\n",
        "*   ce qu'il y a après un # est du commentaire. Il n'est pas interprété par Python.\n",
        "\n",
        "# <center> **Let's go!!!**</center>\n",
        "\n",
        "\n"
      ]
    },
    {
      "cell_type": "markdown",
      "metadata": {
        "id": "x60v8mgNcaKB",
        "colab_type": "text"
      },
      "source": [
        "# Partie I : Les bases de Maths en Python\n",
        "Le nombre « 5 virgule 2 » s’écrira donc 5.2 en Python (5 point 2).\n",
        "Vous pouvez additionner, soustraire, multiplier et diviser avec les opérateurs +, - , * et /.\n",
        "Taper quelques calculs afin de voir les différents retours que vous avez."
      ]
    },
    {
      "cell_type": "code",
      "metadata": {
        "id": "xokakZcLcja6",
        "colab_type": "code",
        "colab": {}
      },
      "source": [
        ""
      ],
      "execution_count": null,
      "outputs": []
    },
    {
      "cell_type": "markdown",
      "metadata": {
        "id": "7xjqx0WVcrub",
        "colab_type": "text"
      },
      "source": [
        "Nous allons désormais voir quelques calculs un peu plus poussés:\n",
        "## 1. Quotient par une division euclidienne: //\n"
      ]
    },
    {
      "cell_type": "code",
      "metadata": {
        "id": "sq_dUj1edHz7",
        "colab_type": "code",
        "colab": {
          "base_uri": "https://localhost:8080/",
          "height": 34
        },
        "outputId": "321558f8-c1d9-40b8-a2c0-081664a3c149"
      },
      "source": [
        "14//3 # Donne le quotient de la division euclidienne de 14 par 3."
      ],
      "execution_count": null,
      "outputs": [
        {
          "output_type": "execute_result",
          "data": {
            "text/plain": [
              "4"
            ]
          },
          "metadata": {
            "tags": []
          },
          "execution_count": 2
        }
      ]
    },
    {
      "cell_type": "markdown",
      "metadata": {
        "id": "H3jqu2hRdSxS",
        "colab_type": "text"
      },
      "source": [
        "## 2. Reste par une division euclidienne: %"
      ]
    },
    {
      "cell_type": "code",
      "metadata": {
        "id": "_-OANYB-dcNX",
        "colab_type": "code",
        "colab": {}
      },
      "source": [
        "14%3 #Donne le reste de la division euclidienne de 14 par 3."
      ],
      "execution_count": null,
      "outputs": []
    },
    {
      "cell_type": "markdown",
      "metadata": {
        "id": "LgfURX8ldiD2",
        "colab_type": "text"
      },
      "source": [
        "## 3. Les puissances: **"
      ]
    },
    {
      "cell_type": "code",
      "metadata": {
        "id": "VlUx5MGOhhMA",
        "colab_type": "code",
        "colab": {}
      },
      "source": [
        "2**3 #permet de faire 2 puissance 2"
      ],
      "execution_count": null,
      "outputs": []
    },
    {
      "cell_type": "code",
      "metadata": {
        "id": "dyCn3TF4ETK_",
        "colab_type": "code",
        "colab": {}
      },
      "source": [
        ""
      ],
      "execution_count": null,
      "outputs": []
    },
    {
      "cell_type": "markdown",
      "metadata": {
        "id": "BXhjqSnChugr",
        "colab_type": "text"
      },
      "source": [
        "## 4.Les parenthèses: Elles sont utilisables et les règles de priorités de calculs sont respectées :\n",
        "\n",
        "Testez les calculs suivants: $$5+5*5$$ et $$(5+5)*5.$$"
      ]
    },
    {
      "cell_type": "code",
      "metadata": {
        "id": "QW86fSmghpTl",
        "colab_type": "code",
        "colab": {}
      },
      "source": [
        ""
      ],
      "execution_count": null,
      "outputs": []
    },
    {
      "cell_type": "markdown",
      "metadata": {
        "id": "2ZjgxKsmiCth",
        "colab_type": "text"
      },
      "source": [
        "## 5.Les fractions:\n",
        "\n",
        "Pour effectuez des calculs avec des fractions, il va falloir tout d'abord importer la bibilothéque qui gère les fractions sous Python.<br/>\n",
        "La commande est simple: "
      ]
    },
    {
      "cell_type": "code",
      "metadata": {
        "id": "-P_97Auniu8V",
        "colab_type": "code",
        "colab": {}
      },
      "source": [
        "from fractions import Fraction"
      ],
      "execution_count": null,
      "outputs": []
    },
    {
      "cell_type": "markdown",
      "metadata": {
        "id": "Wvag2czciwLS",
        "colab_type": "text"
      },
      "source": [
        "Une fois que la bibliotèque est importée, vous pouvez faire des calculs avec fractions. <br/>\n",
        "Pour 3/4 (trois quarts), il faudra rentrer: *Fraction (3,4)*.<br/>\n",
        "Testez les calculs suivants: Fraction (3,4)+1 et Fraction (3,4)+1.0"
      ]
    },
    {
      "cell_type": "code",
      "metadata": {
        "id": "mWHvB-fgjXT4",
        "colab_type": "code",
        "colab": {}
      },
      "source": [
        ""
      ],
      "execution_count": null,
      "outputs": []
    },
    {
      "cell_type": "markdown",
      "metadata": {
        "id": "qlSWdDBmjZCd",
        "colab_type": "text"
      },
      "source": [
        "## 6. Différents types de nombres:\n",
        "Vous vous êtes rendus compte que selon que vous mettiez 1 ou 1.0, Python ne renvoit pas le même résultat sous la même forme.<br/>\n",
        "C'est dû au fait, que pour lui,1 est un entier (integer ou int) et 1.0 est un décimal (float).<br/>\n",
        "Il va falloir être prudent avec cela, et nous devrons parfois lui imposer la classe d'un nombre.<br/>\n",
        "Avec la fonction type, vous pouvez savoir de quel type est votre nombre:\n"
      ]
    },
    {
      "cell_type": "code",
      "metadata": {
        "id": "FFRQf7u9me72",
        "colab_type": "code",
        "colab": {}
      },
      "source": [
        "type(1)"
      ],
      "execution_count": null,
      "outputs": []
    },
    {
      "cell_type": "code",
      "metadata": {
        "id": "yXckFhq1mh-F",
        "colab_type": "code",
        "colab": {}
      },
      "source": [
        "type(3.0)"
      ],
      "execution_count": null,
      "outputs": []
    },
    {
      "cell_type": "markdown",
      "metadata": {
        "id": "9Artm8Yzmkqv",
        "colab_type": "text"
      },
      "source": [
        "La fonction int() prend en entrée un nombre réel, se débarrasse de tout ce qui vient après la virgule et retourne l’entier résultant.<br/>\n",
        "La fonction float() fonctionne de la même manière pour faire la conversion inverse :"
      ]
    },
    {
      "cell_type": "code",
      "metadata": {
        "id": "plw4XI7OmxKs",
        "colab_type": "code",
        "colab": {}
      },
      "source": [
        "int(3.897)"
      ],
      "execution_count": null,
      "outputs": []
    },
    {
      "cell_type": "code",
      "metadata": {
        "id": "1DA2tjp4mz93",
        "colab_type": "code",
        "colab": {}
      },
      "source": [
        "float(1)"
      ],
      "execution_count": null,
      "outputs": []
    },
    {
      "cell_type": "markdown",
      "metadata": {
        "id": "jgutjNNpm2hR",
        "colab_type": "text"
      },
      "source": [
        "Remarque : Certains programmes que nous ferons ne fonctionnent qu’avec les entiers. Et pour Python, 1.0 ou 4.0 ne sont pas comme des entiers. <br/>Heureusement, il existe la fonction int pour les convertir..."
      ]
    },
    {
      "cell_type": "markdown",
      "metadata": {
        "id": "rvMEm8AKm_7P",
        "colab_type": "text"
      },
      "source": [
        "## 7. Label (ou variable):\n",
        "Pour affecter à une lettre une valeur, il nous suffira d'utiliser le signe =:"
      ]
    },
    {
      "cell_type": "code",
      "metadata": {
        "id": "UNT15lw-nexL",
        "colab_type": "code",
        "colab": {
          "base_uri": "https://localhost:8080/",
          "height": 34
        },
        "outputId": "51e8864d-0f27-4847-a7fa-dba8eeae1886"
      },
      "source": [
        "a=5\n",
        "a+1"
      ],
      "execution_count": null,
      "outputs": [
        {
          "output_type": "execute_result",
          "data": {
            "text/plain": [
              "6"
            ]
          },
          "metadata": {
            "tags": []
          },
          "execution_count": 3
        }
      ]
    },
    {
      "cell_type": "markdown",
      "metadata": {
        "id": "GpfjDi9rnjmp",
        "colab_type": "text"
      },
      "source": [
        "On voit que Python peut faire le calcul avec la valeur de la variable.<br/>\n",
        "\n",
        "Remarque : Certains mots ne peuvent pas être utiliser en variable car réservés. Les voici :<br/>\n",
        "\n",
        "|               |                 |            |           |           |\n",
        "| ------------- | --------------: | ---------: |---------: |---------: |\n",
        "| and      |        del        |      from | None |True |\n",
        "| as        |        elif        |      global |nonlocal |try |\n",
        "| assert      |        else        |      if |not |whiel |\n",
        "| break      |        except        |     import |or |with |\n",
        "| class      |        False        |      in |pass |yeld |\n",
        "| continue      |        finally        |     is |raise |  |\n",
        "| def      |        for        |      lambda |return |  |\n",
        "\n",
        "\n",
        "Ces mots ayant une signification pour Python, on **ne doit pas** les utiliser en variables."
      ]
    },
    {
      "cell_type": "markdown",
      "metadata": {
        "id": "r14rntR3EhAY",
        "colab_type": "text"
      },
      "source": [
        ""
      ]
    },
    {
      "cell_type": "markdown",
      "metadata": {
        "id": "zyejZAqMqIHl",
        "colab_type": "text"
      },
      "source": [
        "## 8. On veut plus de maths !\n",
        "\n",
        "Pas de panique, tout est prévu, il suffit d’importer au début de la session (ou du programme) le module math :"
      ]
    },
    {
      "cell_type": "code",
      "metadata": {
        "id": "oIyToOqiqNe3",
        "colab_type": "code",
        "colab": {}
      },
      "source": [
        "from math import *"
      ],
      "execution_count": null,
      "outputs": []
    },
    {
      "cell_type": "markdown",
      "metadata": {
        "id": "pWOmawVnqQgm",
        "colab_type": "text"
      },
      "source": [
        "Toutes les fonctions, constantes, etc. du module math seront alors disponibles.<br/>\n",
        "Pour faire des racines carrées vous utiliserez la commande: sqrt().\n",
        "Calculer la racine carré de 25, puis de 2.\n"
      ]
    },
    {
      "cell_type": "code",
      "metadata": {
        "id": "OaEml8RVqjqu",
        "colab_type": "code",
        "colab": {}
      },
      "source": [
        ""
      ],
      "execution_count": null,
      "outputs": []
    },
    {
      "cell_type": "markdown",
      "metadata": {
        "id": "USK9nWlzqken",
        "colab_type": "text"
      },
      "source": [
        "## 9. On veut des probas!\n",
        "\n",
        "Et bien voici un peu de code pour faire des probas...<br/>\n",
        "Tout d'abord, il faut importer tout ou partie du module proba:"
      ]
    },
    {
      "cell_type": "code",
      "metadata": {
        "id": "H0XbjtnHq5oK",
        "colab_type": "code",
        "colab": {}
      },
      "source": [
        "from random import * #importe toute la bibliothèque des fonctions random.\n",
        "from random import randint #importe la fonction randin(). Détails ci-dessous.\n",
        "from random import choice #importe la fonction choice().Détails ci-dessous."
      ],
      "execution_count": null,
      "outputs": []
    },
    {
      "cell_type": "markdown",
      "metadata": {
        "id": "8DOY0noVrBxB",
        "colab_type": "text"
      },
      "source": [
        "Et maintenant, regardons ces commandes:\n"
      ]
    },
    {
      "cell_type": "code",
      "metadata": {
        "id": "YMwTst3yrJpv",
        "colab_type": "code",
        "colab": {}
      },
      "source": [
        "randint(0, 3) #renvoie un entier de façon pseudo-aléatoire entre 0 et 3 inclus"
      ],
      "execution_count": null,
      "outputs": []
    },
    {
      "cell_type": "code",
      "metadata": {
        "id": "wl2hqKz8rKRo",
        "colab_type": "code",
        "colab": {}
      },
      "source": [
        "liste=[1,3,6] #créé une liste de valeurs qui nous servira à tirer un nombre au « hasard » dans cette liste."
      ],
      "execution_count": null,
      "outputs": []
    },
    {
      "cell_type": "code",
      "metadata": {
        "id": "kvw7_I__rNCt",
        "colab_type": "code",
        "colab": {}
      },
      "source": [
        "choice(liste) #renvoie un nombre de la liste liste de façon pseudo-aléatoire."
      ],
      "execution_count": null,
      "outputs": []
    },
    {
      "cell_type": "markdown",
      "metadata": {
        "id": "duBcJZUnrRQR",
        "colab_type": "text"
      },
      "source": [
        "## 10. Quelques exercices:\n",
        "Ces activités sont impératives pour les élèves de seconde. Pour les Premières, vous pouvez en faire certaines afin de réactiver vos connaissances.<br/> <br/>\n",
        "*Objectifs : faire vos premiers calculs avec Python et utiliser des variables.*\n",
        "### Exercice 1: \n",
        "Combien y a-t-il de secondes en un siècle ? (Ne tenez pas compte des années bissextiles)"
      ]
    },
    {
      "cell_type": "code",
      "metadata": {
        "id": "5gxSZ_W8roeO",
        "colab_type": "code",
        "colab": {}
      },
      "source": [
        ""
      ],
      "execution_count": null,
      "outputs": []
    },
    {
      "cell_type": "markdown",
      "metadata": {
        "id": "4IdETbeBrqE0",
        "colab_type": "text"
      },
      "source": [
        "### Exercice 2: \n",
        "Jusqu’où faut-il compléter les pointillés pour obtenir un nombre plus grand qu’un milliard ?\n",
        "\n",
        "$$(1+2)*(3+4)*(5+6)*...$$"
      ]
    },
    {
      "cell_type": "code",
      "metadata": {
        "id": "Xe3edpfpsRZt",
        "colab_type": "code",
        "colab": {}
      },
      "source": [
        ""
      ],
      "execution_count": null,
      "outputs": []
    },
    {
      "cell_type": "markdown",
      "metadata": {
        "id": "ejt-DeOtsRpg",
        "colab_type": "text"
      },
      "source": [
        "### Exercice 3:\n",
        "Quels sont les trois derniers chiffres de :\n",
        "$$ \\underbrace{ \\left(123456789*123456789*... \\right)}_{7  𝑜𝑐𝑐𝑢𝑟𝑟𝑒𝑛𝑐𝑒𝑠 𝑑𝑒 123456789} $$"
      ]
    },
    {
      "cell_type": "code",
      "metadata": {
        "id": "YSI6k_lpteNo",
        "colab_type": "code",
        "colab": {}
      },
      "source": [
        ""
      ],
      "execution_count": null,
      "outputs": []
    },
    {
      "cell_type": "markdown",
      "metadata": {
        "id": "FQYKvwkkte3r",
        "colab_type": "text"
      },
      "source": [
        "### Exercice 4:\n",
        "Définissez des variables, puis calculez l’aire d’un trapèze. Votre programme doit afficher: \"L'aire vaut ...\" en utilisant *print(\"L'aire vaut\",aire)*.<br/>\n",
        "La grande base du trapèze mesure 7cm, la petite base 4cm et la hauteur 3cm."
      ]
    },
    {
      "cell_type": "code",
      "metadata": {
        "id": "xN1HFkjlt5tR",
        "colab_type": "code",
        "colab": {}
      },
      "source": [
        ""
      ],
      "execution_count": null,
      "outputs": []
    },
    {
      "cell_type": "markdown",
      "metadata": {
        "id": "BX0LrHpyt6Dp",
        "colab_type": "text"
      },
      "source": [
        "### Exercice 5:\n",
        "En utilisant, pi (n’oubliez d’importer le module math !).<br/> \n",
        "Définissez un rayon R = 10. </br>\n",
        "Écrivez la formule de l’aire du disque de rayon R."
      ]
    },
    {
      "cell_type": "code",
      "metadata": {
        "id": "8SWcszu4uIQu",
        "colab_type": "code",
        "colab": {}
      },
      "source": [
        ""
      ],
      "execution_count": null,
      "outputs": []
    },
    {
      "cell_type": "markdown",
      "metadata": {
        "id": "ZJ-Qf-ZYuI6S",
        "colab_type": "text"
      },
      "source": [
        "### Exercice 6:\n",
        "Vous placez la somme de 1000 euros sur un compte d’épargne. Chaque année les intérêts sur l’argent placé rapportent 10% (le capital est donc multiplié par 1.10). <br/>\n",
        "Écrivez le code qui permet de calculer le capital pour les trois premières années."
      ]
    },
    {
      "cell_type": "code",
      "metadata": {
        "id": "SFuUpTfyuRZq",
        "colab_type": "code",
        "colab": {}
      },
      "source": [
        ""
      ],
      "execution_count": null,
      "outputs": []
    },
    {
      "cell_type": "markdown",
      "metadata": {
        "id": "Kcri4llQuRnv",
        "colab_type": "text"
      },
      "source": [
        "### Exercice 7:\n",
        "Remettez les lignes dans l’ordre de sorte qu’à la fin x ait la valeur 46. <br/>\n",
        "(1) y = y - 1 <br/>\n",
        "(2) y = 2*x <br/>\n",
        "(3) x = x + 3*y <br/>\n",
        "(4) x = 7 <br/>\n",
        "\n",
        "Testez votre algorithme."
      ]
    },
    {
      "cell_type": "code",
      "metadata": {
        "id": "5W2OJDhUugor",
        "colab_type": "code",
        "colab": {}
      },
      "source": [
        ""
      ],
      "execution_count": null,
      "outputs": []
    },
    {
      "cell_type": "markdown",
      "metadata": {
        "id": "e9-L053gukhb",
        "colab_type": "text"
      },
      "source": [
        "### Exercice 8:\n",
        "Simuler le lancer d’un dé à 6 faces."
      ]
    },
    {
      "cell_type": "code",
      "metadata": {
        "id": "avzSUMz1unei",
        "colab_type": "code",
        "colab": {}
      },
      "source": [
        ""
      ],
      "execution_count": null,
      "outputs": []
    },
    {
      "cell_type": "markdown",
      "metadata": {
        "id": "4iiDs_s6uo6Z",
        "colab_type": "text"
      },
      "source": [
        "Fin de la première partie!"
      ]
    }
  ]
}